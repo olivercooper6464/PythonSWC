{
 "cells": [
  {
   "cell_type": "code",
   "execution_count": 2,
   "metadata": {},
   "outputs": [
    {
     "name": "stdout",
     "output_type": "stream",
     "text": [
      "length: 5\n",
      "zeroth item is: 0.273\n"
     ]
    }
   ],
   "source": [
    "pressures = [0.273, 0.275, 0.277, 0.275, 0.276]\n",
    "print('length:', len(pressures))\n",
    "print('zeroth item is:', pressures[0])"
   ]
  },
  {
   "cell_type": "code",
   "execution_count": null,
   "metadata": {},
   "outputs": [],
   "source": []
  },
  {
   "cell_type": "code",
   "execution_count": 5,
   "metadata": {},
   "outputs": [
    {
     "name": "stdout",
     "output_type": "stream",
     "text": [
      "zeroth item is now: 0.15\n"
     ]
    }
   ],
   "source": [
    "pressures[0] = 0.15\n",
    "print('zeroth item is now:', pressures[0])"
   ]
  },
  {
   "cell_type": "code",
   "execution_count": 10,
   "metadata": {},
   "outputs": [
    {
     "name": "stdout",
     "output_type": "stream",
     "text": [
      "[0.15, 0.275, 0.277, 0.275, 0.276, 0.333, 0.333, 0.333, 0.333, 0.333]\n"
     ]
    }
   ],
   "source": [
    "pressures.append(0.333)\n",
    "print(pressures)"
   ]
  },
  {
   "cell_type": "code",
   "execution_count": 14,
   "metadata": {},
   "outputs": [
    {
     "name": "stdout",
     "output_type": "stream",
     "text": [
      "[0.15, 0.275, 0.277, 0.275, 0.276, 0.333]\n"
     ]
    }
   ],
   "source": [
    "del pressures[-1]\n",
    "print(pressures)"
   ]
  },
  {
   "cell_type": "markdown",
   "metadata": {},
   "source": [
    "Let's explore for-loops"
   ]
  },
  {
   "cell_type": "code",
   "execution_count": 18,
   "metadata": {},
   "outputs": [
    {
     "name": "stdout",
     "output_type": "stream",
     "text": [
      "0 0\n",
      "2 4\n",
      "5 25\n",
      "10 100\n"
     ]
    }
   ],
   "source": [
    "for number in [0,2,5,10]:\n",
    "    squared = number ** 2\n",
    "    print(number, squared)"
   ]
  },
  {
   "cell_type": "code",
   "execution_count": 25,
   "metadata": {},
   "outputs": [
    {
     "name": "stdout",
     "output_type": "stream",
     "text": [
      "hi there\n",
      "hi there\n",
      "hi there\n",
      "hi there\n",
      "hi there\n",
      "hi there\n",
      "hi there\n",
      "hi there\n",
      "hi there\n",
      "hi there\n",
      "10\n"
     ]
    }
   ],
   "source": [
    "# Sum of the first ten integers\n",
    "count = 0\n",
    "\n",
    "for number in range(10):\n",
    "    count = count + 1\n",
    "    print('hi there') \n",
    "    \n",
    "print(count)"
   ]
  }
 ],
 "metadata": {
  "kernelspec": {
   "display_name": "Python 3",
   "language": "python",
   "name": "python3"
  },
  "language_info": {
   "codemirror_mode": {
    "name": "ipython",
    "version": 3
   },
   "file_extension": ".py",
   "mimetype": "text/x-python",
   "name": "python",
   "nbconvert_exporter": "python",
   "pygments_lexer": "ipython3",
   "version": "3.6.5"
  }
 },
 "nbformat": 4,
 "nbformat_minor": 2
}
